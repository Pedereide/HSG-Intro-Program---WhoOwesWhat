{
  "nbformat": 4,
  "nbformat_minor": 0,
  "metadata": {
    "colab": {
      "name": "WhoOwesWhat.ipynb",
      "provenance": [],
      "collapsed_sections": []
    },
    "kernelspec": {
      "name": "python3",
      "display_name": "Python 3"
    },
    "language_info": {
      "name": "python"
    }
  },
  "cells": [
    {
      "cell_type": "code",
      "metadata": {
        "id": "X0EKoWXddtgB"
      },
      "source": [
        "# Class with color codes\n",
        "class color:\n",
        "  GREEN = '\\033[92m'\n",
        "  RED = '\\033[91m'\n",
        "  BOLD = '\\033[1m'\n",
        "  END = '\\033[0m'\n",
        "\n"
      ],
      "execution_count": 134,
      "outputs": []
    },
    {
      "cell_type": "code",
      "metadata": {
        "colab": {
          "base_uri": "https://localhost:8080/"
        },
        "id": "1tkrDByBaGII",
        "outputId": "752c7228-f384-4292-8ca0-df16f18fe3ae"
      },
      "source": [
        "import numpy as np\n",
        "import math\n",
        "\n",
        "print(\"Hello, here you can add your individual expenses from a trip \\nand see who owes what to the group!\\n\")\n",
        "\n",
        "N = int(input(\"How many people participated: \"))\n",
        "\n",
        "if N > 10:\n",
        "  print(\"\\nWow, big group. Fun!\")\n",
        "print(\"\\nNow each person can add their expenses\")\n",
        "\n"
      ],
      "execution_count": 135,
      "outputs": [
        {
          "output_type": "stream",
          "text": [
            "Hello, here you can add your individual expenses from a trip \n",
            "and see who owes what to the group!\n",
            "\n",
            "How many people participated: 3\n",
            "\n",
            "Now each person can add their expenses\n"
          ],
          "name": "stdout"
        }
      ]
    },
    {
      "cell_type": "code",
      "metadata": {
        "colab": {
          "base_uri": "https://localhost:8080/"
        },
        "id": "78gaDiC5Q8Kh",
        "outputId": "413c6acb-3189-47b5-e77d-e29c8e86a46e"
      },
      "source": [
        "# Arrays to store information about names and expenses\n",
        "names = ['']\n",
        "expenses = [0]\n",
        "sum = 0\n",
        "\n",
        "# Looping to get participants names and expenses \n",
        "for i in range(1,N+1):\n",
        "  \n",
        "  # Get each persons name\n",
        "  while True:\n",
        "    try: \n",
        "      names[i-1] = str(input(\"What is your name: \"))\n",
        "      names.append(names[i-1])\n",
        "    except ValueError:\n",
        "      print(\"Please use text!\")\n",
        "      continue\n",
        "    else:\n",
        "        break\n",
        "    \n",
        "  # Get each persons expenses \n",
        "  while True:\n",
        "    try:\n",
        "      expenses[i-1] = float(input(\"What was your expense, {}: \".format(names[i-1])))\n",
        "      expenses.append(expenses[i-1])\n",
        "      sum = sum + expenses[i-1]\n",
        "    except ValueError:\n",
        "      print(\"Please type in a number.\")\n",
        "      continue\n",
        "    else:\n",
        "        break\n",
        "        "
      ],
      "execution_count": 136,
      "outputs": [
        {
          "output_type": "stream",
          "text": [
            "What is your name: Peder\n",
            "What was your expense, Peder: 4\n",
            "What is your name: Jacob\n",
            "What was your expense, Jacob: 6\n",
            "What is your name: Eric\n",
            "What was your expense, Eric: 8\n"
          ],
          "name": "stdout"
        }
      ]
    },
    {
      "cell_type": "code",
      "metadata": {
        "id": "dQTR3l7gVgo6"
      },
      "source": [
        "# Calculating the total expenses per person\n",
        "sum_pr_person = float(sum/N)\n"
      ],
      "execution_count": 154,
      "outputs": []
    },
    {
      "cell_type": "code",
      "metadata": {
        "id": "AQ3wCOlzWNpS"
      },
      "source": [
        "# Solve for each participants net to the group and store in new array\n",
        "net = []\n",
        "for i in range(1,N+1): \n",
        "  net.append(expenses[i-1] - sum_pr_person)\n"
      ],
      "execution_count": 155,
      "outputs": []
    },
    {
      "cell_type": "code",
      "metadata": {
        "id": "XyLOfsUdou6e"
      },
      "source": [
        "# Define function to find the biggest spender, returning the name\n",
        "def big_spender(e, n):\n",
        "  max = 0\n",
        "  for j in range(1, N): \n",
        "      if (e[j] > e[max]): \n",
        "            max = j\n",
        "  return n[max]\n"
      ],
      "execution_count": 156,
      "outputs": []
    },
    {
      "cell_type": "code",
      "metadata": {
        "colab": {
          "base_uri": "https://localhost:8080/"
        },
        "id": "HmlVfBivqKby",
        "outputId": "06200d45-6b4f-49df-d618-a2da50ea173e"
      },
      "source": [
        "# Just funny text stating who had the most expenses\n",
        "print(\"EY,\", color.BOLD + \"{}\".format(big_spender(expenses, names)) + color.END, \"was the big spender!\\n\")\n"
      ],
      "execution_count": 157,
      "outputs": [
        {
          "output_type": "stream",
          "text": [
            "EY, \u001b[1mEric\u001b[0m was the big spender!\n",
            "\n"
          ],
          "name": "stdout"
        }
      ]
    },
    {
      "cell_type": "code",
      "metadata": {
        "colab": {
          "base_uri": "https://localhost:8080/"
        },
        "id": "4d77gIYUXU1D",
        "outputId": "8176ce43-547a-467c-9922-e5278f029f8e"
      },
      "source": [
        "# Displays what each participant owes to total\n",
        "for i in range(1, N+1):\n",
        "  if (expenses[i-1] - sum_pr_person) < 0:\n",
        "    print(color.RED +\"{} is {:.2f} CHF in debt to the group.\".format(names[i-1],net[i-1]*-1) + color.END)\n",
        "  elif (expenses[i-1] - sum_pr_person) > 0:\n",
        "    print(color.GREEN + \"{} is owed {:.2f} CHF from the group.\".format(names[i-1],net[i-1]) + color.END)\n",
        "  else:\n",
        "    print(\"{} is all squared\".format(names[i-1]))\n"
      ],
      "execution_count": 158,
      "outputs": [
        {
          "output_type": "stream",
          "text": [
            "\u001b[91mPeder is 2.00 CHF in debt to the group.\u001b[0m\n",
            "Jacob is all squared\n",
            "\u001b[92mEric is owed 2.00 CHF from the group.\u001b[0m\n"
          ],
          "name": "stdout"
        }
      ]
    },
    {
      "cell_type": "code",
      "metadata": {
        "colab": {
          "base_uri": "https://localhost:8080/",
          "height": 378
        },
        "id": "nw3OSweGg69I",
        "outputId": "8348f556-657e-490b-f395-5d5bb949d248"
      },
      "source": [
        "\n",
        "# EXTRA\n",
        "# asking for multiple expenses\n",
        "\n",
        "expenses = input(\"expenses: \")\n",
        "expenses_list = expenses.split(', ')\n",
        "expenses_float_list = [float(number) for number in expenses_list]\n",
        "math.fsum(expenses_float_list)\n",
        "\n"
      ],
      "execution_count": 113,
      "outputs": [
        {
          "output_type": "stream",
          "text": [
            "expenses: d\n"
          ],
          "name": "stdout"
        },
        {
          "output_type": "error",
          "ename": "ValueError",
          "evalue": "ignored",
          "traceback": [
            "\u001b[0;31m---------------------------------------------------------------------------\u001b[0m",
            "\u001b[0;31mValueError\u001b[0m                                Traceback (most recent call last)",
            "\u001b[0;32m<ipython-input-113-c750c4428fdd>\u001b[0m in \u001b[0;36m<module>\u001b[0;34m()\u001b[0m\n\u001b[1;32m      4\u001b[0m \u001b[0mexpenses\u001b[0m \u001b[0;34m=\u001b[0m \u001b[0minput\u001b[0m\u001b[0;34m(\u001b[0m\u001b[0;34m\"expenses: \"\u001b[0m\u001b[0;34m)\u001b[0m\u001b[0;34m\u001b[0m\u001b[0;34m\u001b[0m\u001b[0m\n\u001b[1;32m      5\u001b[0m \u001b[0mexpenses_list\u001b[0m \u001b[0;34m=\u001b[0m \u001b[0mexpenses\u001b[0m\u001b[0;34m.\u001b[0m\u001b[0msplit\u001b[0m\u001b[0;34m(\u001b[0m\u001b[0;34m', '\u001b[0m\u001b[0;34m)\u001b[0m\u001b[0;34m\u001b[0m\u001b[0;34m\u001b[0m\u001b[0m\n\u001b[0;32m----> 6\u001b[0;31m \u001b[0mexpenses_float_list\u001b[0m \u001b[0;34m=\u001b[0m \u001b[0;34m[\u001b[0m\u001b[0mfloat\u001b[0m\u001b[0;34m(\u001b[0m\u001b[0mnumber\u001b[0m\u001b[0;34m)\u001b[0m \u001b[0;32mfor\u001b[0m \u001b[0mnumber\u001b[0m \u001b[0;32min\u001b[0m \u001b[0mexpenses_list\u001b[0m\u001b[0;34m]\u001b[0m\u001b[0;34m\u001b[0m\u001b[0;34m\u001b[0m\u001b[0m\n\u001b[0m\u001b[1;32m      7\u001b[0m \u001b[0mmath\u001b[0m\u001b[0;34m.\u001b[0m\u001b[0mfsum\u001b[0m\u001b[0;34m(\u001b[0m\u001b[0mexpenses_float_list\u001b[0m\u001b[0;34m)\u001b[0m\u001b[0;34m\u001b[0m\u001b[0;34m\u001b[0m\u001b[0m\n\u001b[1;32m      8\u001b[0m \u001b[0;34m\u001b[0m\u001b[0m\n",
            "\u001b[0;32m<ipython-input-113-c750c4428fdd>\u001b[0m in \u001b[0;36m<listcomp>\u001b[0;34m(.0)\u001b[0m\n\u001b[1;32m      4\u001b[0m \u001b[0mexpenses\u001b[0m \u001b[0;34m=\u001b[0m \u001b[0minput\u001b[0m\u001b[0;34m(\u001b[0m\u001b[0;34m\"expenses: \"\u001b[0m\u001b[0;34m)\u001b[0m\u001b[0;34m\u001b[0m\u001b[0;34m\u001b[0m\u001b[0m\n\u001b[1;32m      5\u001b[0m \u001b[0mexpenses_list\u001b[0m \u001b[0;34m=\u001b[0m \u001b[0mexpenses\u001b[0m\u001b[0;34m.\u001b[0m\u001b[0msplit\u001b[0m\u001b[0;34m(\u001b[0m\u001b[0;34m', '\u001b[0m\u001b[0;34m)\u001b[0m\u001b[0;34m\u001b[0m\u001b[0;34m\u001b[0m\u001b[0m\n\u001b[0;32m----> 6\u001b[0;31m \u001b[0mexpenses_float_list\u001b[0m \u001b[0;34m=\u001b[0m \u001b[0;34m[\u001b[0m\u001b[0mfloat\u001b[0m\u001b[0;34m(\u001b[0m\u001b[0mnumber\u001b[0m\u001b[0;34m)\u001b[0m \u001b[0;32mfor\u001b[0m \u001b[0mnumber\u001b[0m \u001b[0;32min\u001b[0m \u001b[0mexpenses_list\u001b[0m\u001b[0;34m]\u001b[0m\u001b[0;34m\u001b[0m\u001b[0;34m\u001b[0m\u001b[0m\n\u001b[0m\u001b[1;32m      7\u001b[0m \u001b[0mmath\u001b[0m\u001b[0;34m.\u001b[0m\u001b[0mfsum\u001b[0m\u001b[0;34m(\u001b[0m\u001b[0mexpenses_float_list\u001b[0m\u001b[0;34m)\u001b[0m\u001b[0;34m\u001b[0m\u001b[0;34m\u001b[0m\u001b[0m\n\u001b[1;32m      8\u001b[0m \u001b[0;34m\u001b[0m\u001b[0m\n",
            "\u001b[0;31mValueError\u001b[0m: could not convert string to float: 'd'"
          ]
        }
      ]
    }
  ]
}